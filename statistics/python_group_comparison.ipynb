{
 "cells": [
  {
   "cell_type": "markdown",
   "metadata": {},
   "source": [
    "## Group comparison in python "
   ]
  },
  {
   "cell_type": "markdown",
   "metadata": {},
   "source": [
    "import libaries"
   ]
  },
  {
   "cell_type": "code",
   "execution_count": 3,
   "metadata": {},
   "outputs": [],
   "source": [
    "import numpy as np\n",
    "import pandas as pd\n",
    "import scipy.stats as stats\n",
    "import statsmodels.api as sm\n",
    "import statsmodels.formula.api as smf\n",
    "import pingouin as pg"
   ]
  },
  {
   "cell_type": "markdown",
   "metadata": {},
   "source": [
    "Generate Example Data"
   ]
  },
  {
   "cell_type": "code",
   "execution_count": 26,
   "metadata": {},
   "outputs": [],
   "source": [
    "np.random.seed(42)\n",
    "data = pd.DataFrame({\n",
    "    'Group': np.random.choice(['A', 'B'], 100),\n",
    "    'Score': np.random.normal(50, 10, 100),\n",
    "    'Subject': np.arange(100),\n",
    "    'Time1': np.random.normal(50, 10, 100),\n",
    "    'Time2': np.random.normal(52, 10, 100),\n",
    "    'Covariate1': np.random.normal(100, 15, 100),\n",
    "    'Covariate2': np.random.normal(100, 15, 100),})\n",
    "\n",
    "# longitudinal dataframe\n",
    "data_long = data.melt(id_vars=['Group', 'Subject', 'Score', 'Covariate1', 'Covariate2'], value_vars=['Time1', 'Time2'], \n",
    "                      var_name='Time', value_name='Time_Score')"
   ]
  },
  {
   "cell_type": "markdown",
   "metadata": {},
   "source": [
    "Independent t-test"
   ]
  },
  {
   "cell_type": "code",
   "execution_count": null,
   "metadata": {},
   "outputs": [
    {
     "name": "stdout",
     "output_type": "stream",
     "text": [
      "Independent t-test: TtestResult(statistic=0.8466418913640135, pvalue=0.39925748482515977, df=98.0)\n"
     ]
    }
   ],
   "source": [
    "ind_ttest = stats.ttest_ind(\n",
    "    data.loc[data['Group'] == 'A', 'Score'],\n",
    "    data.loc[data['Group'] == 'B', 'Score'],\n",
    "    equal_var=True)\n",
    "print(\"Independent t-test:\", ind_ttest)"
   ]
  },
  {
   "cell_type": "markdown",
   "metadata": {},
   "source": [
    "Paired t-test"
   ]
  },
  {
   "cell_type": "code",
   "execution_count": null,
   "metadata": {},
   "outputs": [
    {
     "name": "stdout",
     "output_type": "stream",
     "text": [
      "Paired t-test: TtestResult(statistic=-0.9653334717494163, pvalue=0.33673000817565746, df=99)\n"
     ]
    }
   ],
   "source": [
    "paired_ttest = stats.ttest_rel(data['Time1'], data['Time2'])\n",
    "print(\"Paired t-test:\", paired_ttest)"
   ]
  },
  {
   "cell_type": "markdown",
   "metadata": {},
   "source": [
    "One-way ANOVA"
   ]
  },
  {
   "cell_type": "code",
   "execution_count": null,
   "metadata": {},
   "outputs": [
    {
     "name": "stdout",
     "output_type": "stream",
     "text": [
      "One-way ANOVA:   Source  ddof1  ddof2      F  p-unc    np2\n",
      "0  Group      1     98  0.717  0.399  0.007\n"
     ]
    }
   ],
   "source": [
    "# statsmodels\n",
    "anova = smf.ols('Score ~ Group', data=data).fit()\n",
    "anova_result = sm.stats.anova_lm(anova, typ=2)\n",
    "\n",
    "# pingouin\n",
    "anova_result = pg.anova(data=data, dv='Score', between='Group').round(3)\n",
    "\n",
    "print(\"One-way ANOVA:\", anova_result)"
   ]
  },
  {
   "cell_type": "markdown",
   "metadata": {},
   "source": [
    "Repeated Measures ANOVA"
   ]
  },
  {
   "cell_type": "code",
   "execution_count": null,
   "metadata": {},
   "outputs": [
    {
     "name": "stdout",
     "output_type": "stream",
     "text": [
      "Repeated Measures ANOVA:   Source            SS  DF          MS         F    p-unc       ng2  eps\n",
      "0   Time    100.828244   1  100.828244  0.931869  0.33673  0.005367  1.0\n",
      "1  Error  10711.805208  99  108.200053       NaN      NaN       NaN  NaN\n"
     ]
    }
   ],
   "source": [
    "rm_anova = pg.rm_anova(data=data_long, dv='Time_Score', within='Time', subject='Subject', detailed=True)\n",
    "print(\"Repeated Measures ANOVA:\", rm_anova)"
   ]
  },
  {
   "cell_type": "markdown",
   "metadata": {},
   "source": [
    "Mixed ANOVA"
   ]
  },
  {
   "cell_type": "code",
   "execution_count": null,
   "metadata": {},
   "outputs": [
    {
     "name": "stdout",
     "output_type": "stream",
     "text": [
      "Mixed ANOVA:         Source          SS  DF1  DF2          MS         F     p-unc  \\\n",
      "0        Group   12.363711    1   98   12.363711  0.152161  0.697326   \n",
      "1         Time  100.828244    1   98  100.828244  0.922876  0.339085   \n",
      "2  Interaction    4.879277    1   98    4.879277  0.044660  0.833070   \n",
      "\n",
      "        np2  eps  \n",
      "0  0.001550  NaN  \n",
      "1  0.009329  1.0  \n",
      "2  0.000456  NaN  \n"
     ]
    }
   ],
   "source": [
    "mixed_anova = pg.mixed_anova(data=data_long, dv='Time_Score', within='Time', between='Group', subject='Subject')\n",
    "print(\"Mixed ANOVA:\", mixed_anova)"
   ]
  },
  {
   "cell_type": "markdown",
   "metadata": {},
   "source": [
    "ANCOVA"
   ]
  },
  {
   "cell_type": "code",
   "execution_count": null,
   "metadata": {},
   "outputs": [
    {
     "name": "stdout",
     "output_type": "stream",
     "text": [
      "ANCOVA:        Source        SS  DF      F  p-unc    np2\n",
      "0       Group    39.250   1  0.454  0.502  0.005\n",
      "1  Covariate1     0.571   1  0.007  0.935  0.000\n",
      "2  Covariate2   349.644   1  4.041  0.047  0.040\n",
      "3    Residual  8307.055  96    NaN    NaN    NaN\n"
     ]
    }
   ],
   "source": [
    "# statsmodels\n",
    "ancova = smf.ols('Score ~ Group + Covariate1 + Covariate2', data=data).fit()\n",
    "ancova_result = sm.stats.anova_lm(ancova, typ=2)\n",
    "\n",
    "# pingouin\n",
    "ancova_result = pg.ancova(data=data, dv='Score', between='Group', covar=['Covariate1', 'Covariate2']).round(3) \n",
    "\n",
    "print(\"ANCOVA:\", ancova_result)"
   ]
  },
  {
   "cell_type": "markdown",
   "metadata": {},
   "source": [
    "Linear Mixed Model (LMM)"
   ]
  },
  {
   "cell_type": "code",
   "execution_count": null,
   "metadata": {},
   "outputs": [
    {
     "name": "stderr",
     "output_type": "stream",
     "text": [
      "/home/julia/anaconda3/lib/python3.11/site-packages/statsmodels/regression/mixed_linear_model.py:2262: ConvergenceWarning: The Hessian matrix at the estimated parameter values is not positive definite.\n",
      "  warnings.warn(msg, ConvergenceWarning)\n"
     ]
    },
    {
     "name": "stdout",
     "output_type": "stream",
     "text": [
      "Linear Mixed Model:          Mixed Linear Model Regression Results\n",
      "=======================================================\n",
      "Model:            MixedLM Dependent Variable: Score    \n",
      "No. Observations: 100     Method:             REML     \n",
      "No. Groups:       100     Scale:              43.2659  \n",
      "Min. group size:  1       Log-Likelihood:     -364.2082\n",
      "Max. group size:  1       Converged:          Yes      \n",
      "Mean group size:  1.0                                  \n",
      "-------------------------------------------------------\n",
      "             Coef.  Std.Err.   z    P>|z| [0.025 0.975]\n",
      "-------------------------------------------------------\n",
      "Intercept    62.630    4.745 13.198 0.000 53.329 71.930\n",
      "Group[T.B]   -1.267    1.881 -0.674 0.501 -4.954  2.420\n",
      "Covariate1    0.005    0.016  0.314 0.754 -0.026  0.036\n",
      "Covariate2   -0.131    0.065 -2.027 0.043 -0.258 -0.004\n",
      "Group Var    43.266                                    \n",
      "=======================================================\n",
      "\n"
     ]
    },
    {
     "name": "stderr",
     "output_type": "stream",
     "text": [
      "/home/julia/anaconda3/lib/python3.11/site-packages/statsmodels/regression/mixed_linear_model.py:1635: UserWarning: Random effects covariance is singular\n",
      "  warnings.warn(msg)\n"
     ]
    },
    {
     "name": "stdout",
     "output_type": "stream",
     "text": [
      "Linear Mixed Model:                Mixed Linear Model Regression Results\n",
      "===================================================================\n",
      "Model:                 MixedLM    Dependent Variable:    Time_Score\n",
      "No. Observations:      200        Method:                REML      \n",
      "No. Groups:            100        Scale:                 96.2321   \n",
      "Min. group size:       2          Log-Likelihood:        -736.7335 \n",
      "Max. group size:       2          Converged:             Yes       \n",
      "Mean group size:       2.0                                         \n",
      "-------------------------------------------------------------------\n",
      "                         Coef.  Std.Err.   z    P>|z| [0.025 0.975]\n",
      "-------------------------------------------------------------------\n",
      "Intercept                51.250    6.309  8.124 0.000 38.885 63.615\n",
      "Time[T.Time2]             1.772    2.091  0.847 0.397 -2.327  5.872\n",
      "Group[T.B]               -0.179    1.980 -0.090 0.928 -4.060  3.702\n",
      "Time[T.Time2]:Group[T.B] -0.629    2.795 -0.225 0.822 -6.107  4.848\n",
      "Covariate1                0.003    0.046  0.067 0.947 -0.087  0.094\n",
      "Covariate2               -0.004    0.049 -0.073 0.942 -0.099  0.092\n",
      "Group Var                 0.000    1.186                           \n",
      "===================================================================\n",
      "\n"
     ]
    },
    {
     "name": "stderr",
     "output_type": "stream",
     "text": [
      "/home/julia/anaconda3/lib/python3.11/site-packages/statsmodels/regression/mixed_linear_model.py:2238: ConvergenceWarning: The MLE may be on the boundary of the parameter space.\n",
      "  warnings.warn(msg, ConvergenceWarning)\n"
     ]
    }
   ],
   "source": [
    "lmm = smf.mixedlm('Score ~ Group + Covariate1 + Covariate2', data, groups=data['Subject']).fit()\n",
    "print(\"Linear Mixed Model:\", lmm.summary())\n",
    "\n",
    "# longitudinal data:\n",
    "lmm_long = smf.mixedlm('Time_Score ~ Time * Group + Covariate1 + Covariate2', data_long, groups=data_long['Subject']).fit()\n",
    "print(\"Linear Mixed Model:\", lmm_long.summary())"
   ]
  },
  {
   "cell_type": "markdown",
   "metadata": {},
   "source": [
    "Generalized Linear Mixed Model (GLMM)"
   ]
  },
  {
   "cell_type": "code",
   "execution_count": 35,
   "metadata": {},
   "outputs": [
    {
     "name": "stdout",
     "output_type": "stream",
     "text": [
      "Generalized Linear Mixed Model:                  Generalized Linear Model Regression Results                  \n",
      "==============================================================================\n",
      "Dep. Variable:                  Score   No. Observations:                  100\n",
      "Model:                            GLM   Df Residuals:                       96\n",
      "Model Family:                Binomial   Df Model:                            3\n",
      "Link Function:                  Logit   Scale:                          1.0000\n",
      "Method:                          IRLS   Log-Likelihood:             2.2329e+05\n",
      "Date:                 Do, 13 Mär 2025   Deviance:                   3.9005e+05\n",
      "Time:                        19:02:29   Pearson chi2:                 1.11e+21\n",
      "No. Iterations:                     2   Pseudo R-squ. (CS):                nan\n",
      "Covariance Type:            nonrobust                                         \n",
      "==============================================================================\n",
      "                 coef    std err          z      P>|z|      [0.025      0.975]\n",
      "------------------------------------------------------------------------------\n",
      "Intercept   4.175e+17   6.02e+07   6.94e+09      0.000    4.17e+17    4.17e+17\n",
      "Group[T.B]  -8.56e+15   1.36e+07  -6.31e+08      0.000   -8.56e+15   -8.56e+15\n",
      "Covariate1  3.399e+13   4.47e+05   7.61e+07      0.000     3.4e+13     3.4e+13\n",
      "Covariate2 -8.855e+14    4.7e+05  -1.88e+09      0.000   -8.85e+14   -8.85e+14\n",
      "==============================================================================\n",
      "Generalized Linear Mixed Model:                  Generalized Linear Model Regression Results                  \n",
      "==============================================================================\n",
      "Dep. Variable:             Time_Score   No. Observations:                  200\n",
      "Model:                            GLM   Df Residuals:                      194\n",
      "Model Family:                Binomial   Df Model:                            5\n",
      "Link Function:                  Logit   Scale:                          1.0000\n",
      "Method:                          IRLS   Log-Likelihood:             4.6623e+05\n",
      "Date:                 Do, 13 Mär 2025   Deviance:                   8.1504e+05\n",
      "Time:                        19:02:29   Pearson chi2:                 2.41e+21\n",
      "No. Iterations:                     2   Pseudo R-squ. (CS):                nan\n",
      "Covariance Type:            nonrobust                                         \n",
      "============================================================================================\n",
      "                               coef    std err          z      P>|z|      [0.025      0.975]\n",
      "--------------------------------------------------------------------------------------------\n",
      "Intercept                 3.406e+17   4.32e+07   7.89e+09      0.000    3.41e+17    3.41e+17\n",
      "Time[T.Time2]             1.197e+16   1.43e+07   8.37e+08      0.000     1.2e+16     1.2e+16\n",
      "Group[T.B]               -1.207e+15   1.35e+07  -8.91e+07      0.000   -1.21e+15   -1.21e+15\n",
      "Time[T.Time2]:Group[T.B] -4.251e+15   1.91e+07  -2.22e+08      0.000   -4.25e+15   -4.25e+15\n",
      "Covariate1                2.081e+13   3.16e+05   6.59e+07      0.000    2.08e+13    2.08e+13\n",
      "Covariate2               -2.382e+13   3.33e+05  -7.16e+07      0.000   -2.38e+13   -2.38e+13\n",
      "============================================================================================\n"
     ]
    },
    {
     "name": "stderr",
     "output_type": "stream",
     "text": [
      "/home/julia/anaconda3/lib/python3.11/site-packages/statsmodels/base/model.py:130: ValueWarning: unknown kwargs ['groups']\n",
      "  warnings.warn(msg, ValueWarning)\n",
      "/home/julia/anaconda3/lib/python3.11/site-packages/statsmodels/genmod/families/family.py:1056: RuntimeWarning: invalid value encountered in log\n",
      "  special.gammaln(n - y + 1) + y * np.log(mu / (1 - mu + 1e-20)) +\n",
      "/home/julia/anaconda3/lib/python3.11/site-packages/statsmodels/genmod/families/family.py:1057: RuntimeWarning: invalid value encountered in log\n",
      "  n * np.log(1 - mu + 1e-20)) * var_weights\n",
      "/home/julia/anaconda3/lib/python3.11/site-packages/statsmodels/base/model.py:130: ValueWarning: unknown kwargs ['groups']\n",
      "  warnings.warn(msg, ValueWarning)\n",
      "/home/julia/anaconda3/lib/python3.11/site-packages/statsmodels/genmod/families/family.py:1056: RuntimeWarning: invalid value encountered in log\n",
      "  special.gammaln(n - y + 1) + y * np.log(mu / (1 - mu + 1e-20)) +\n",
      "/home/julia/anaconda3/lib/python3.11/site-packages/statsmodels/genmod/families/family.py:1057: RuntimeWarning: invalid value encountered in log\n",
      "  n * np.log(1 - mu + 1e-20)) * var_weights\n"
     ]
    }
   ],
   "source": [
    "glmm = smf.glm('Score ~ Group + Covariate1 + Covariate2', data, groups=data['Subject'], family=sm.families.Binomial()).fit()\n",
    "print(\"Generalized Linear Mixed Model:\", glmm.summary())\n",
    "\n",
    "# longitudinal data:\n",
    "glmm_long = smf.glm('Time_Score ~ Time * Group + Covariate1 + Covariate2', data_long, groups=data_long['Subject'], family=sm.families.Binomial()).fit()\n",
    "print(\"Generalized Linear Mixed Model:\", glmm_long.summary())"
   ]
  }
 ],
 "metadata": {
  "kernelspec": {
   "display_name": "base",
   "language": "python",
   "name": "python3"
  },
  "language_info": {
   "codemirror_mode": {
    "name": "ipython",
    "version": 3
   },
   "file_extension": ".py",
   "mimetype": "text/x-python",
   "name": "python",
   "nbconvert_exporter": "python",
   "pygments_lexer": "ipython3",
   "version": "3.11.5"
  }
 },
 "nbformat": 4,
 "nbformat_minor": 2
}
