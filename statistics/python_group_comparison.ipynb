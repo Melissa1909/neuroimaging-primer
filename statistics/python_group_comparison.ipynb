import numpy as np
import pandas as pd
import scipy.stats as stats
import statsmodels.api as sm
import statsmodels.formula.api as smf
import pingouin as pg

# Generate Example Data
np.random.seed(42)
data = pd.DataFrame({
    'Group': np.random.choice(['A', 'B'], 100),
    'Score': np.random.normal(50, 10, 100),
    'Subject': np.arange(100),
    'Time1': np.random.normal(50, 10, 100),
    'Time2': np.random.normal(52, 10, 100),
    'Covariate1': np.random.normal(100, 15, 100),
    'Covariate2': np.random.normal(100, 15, 100),})

# Independent Samples t-test
ind_ttest = stats.ttest_ind(
    data.loc[data['Group'] == 'A', 'Score'],
    data.loc[data['Group'] == 'B', 'Score'],
    equal_var=True)

# Paired Samples t-test
paired_ttest = stats.ttest_rel(data['Time1'], data['Time2'])

# One-way ANOVA
anova = smf.ols('Score ~ Group', data=data).fit()
anova_result = sm.stats.anova_lm(anova, typ=2)
# //
aov = pg.anova(data=data, dv=Score, between='Group').round(3)

# Repeated Measures ANOVA
rm_anova = pg.rm_anova(data=data, dv='Score', within='Time1', subject='Subject', detailed=True)

# Mixed ANOVA
mixed_anova = pg.mixed_anova(data=data, dv='Score', within='Time1', between='Group', subject='Subject')

# ANCOVA
ancova = smf.ols('Score ~ Group + Covariate1 + Covariate2', data=data).fit()
ancova_result = sm.stats.anova_lm(ancova, typ=2)
# //
aov = pg.ancova(data=data, dv=Score, between='Group', covar=['Covariate1', 'Covariate2']).round(3) 

# Linear Mixed Model (LMM)
lmm = smf.mixedlm('Score ~ Group + Covariate1 + Covariate2', data, groups=data['Subject']).fit()

# Generalized Linear Mixed Model (GLMM)
glmm = smf.mixedlm('Score ~ Group + Covariate1 + Covariate2', data, groups=data['Subject'], family=sm.families.Binomial()).fit()

# Print Results
print("Independent t-test:", ind_ttest)
print("Paired t-test:", paired_ttest)
print("One-way ANOVA:", anova_result)
print("Repeated Measures ANOVA:", rm_anova)
print("Mixed ANOVA:", mixed_anova)
print("ANCOVA:", ancova_result)
print("LMM:", lmm.summary())
print("GLMM:", glmm.summary())

