{
 "cells": [
  {
   "cell_type": "markdown",
   "metadata": {},
   "source": [
    "## Group comparison in python "
   ]
  },
  {
   "cell_type": "markdown",
   "metadata": {},
   "source": [
    "import libaries"
   ]
  },
  {
   "cell_type": "code",
   "execution_count": null,
   "metadata": {},
   "outputs": [],
   "source": [
    "import numpy as np\n",
    "import pandas as pd\n",
    "import scipy.stats as stats\n",
    "import statsmodels.api as sm\n",
    "import statsmodels.formula.api as smf\n",
    "import pingouin as pg"
   ]
  },
  {
   "cell_type": "markdown",
   "metadata": {},
   "source": [
    "Generate Example Data"
   ]
  },
  {
   "cell_type": "code",
   "execution_count": null,
   "metadata": {},
   "outputs": [],
   "source": [
    "np.random.seed(42)\n",
    "data = pd.DataFrame({\n",
    "    'Group': np.random.choice(['A', 'B'], 100),\n",
    "    'Score': np.random.normal(50, 10, 100),\n",
    "    'Subject': np.arange(100),\n",
    "    'Time1': np.random.normal(50, 10, 100),\n",
    "    'Time2': np.random.normal(52, 10, 100),\n",
    "    'Covariate1': np.random.normal(100, 15, 100),\n",
    "    'Covariate2': np.random.normal(100, 15, 100),})\n",
    "\n",
    "# longitudinal dataframe\n",
    "data_long = data.melt(id_vars=['Group', 'Subject', 'Score', 'Covariate1', 'Covariate2'], value_vars=['Time1', 'Time2'], \n",
    "                      var_name='Time', value_name='Time_Score')"
   ]
  },
  {
   "cell_type": "markdown",
   "metadata": {},
   "source": [
    "Independent t-test"
   ]
  },
  {
   "cell_type": "code",
   "execution_count": null,
   "metadata": {},
   "outputs": [],
   "source": [
    "ind_ttest = stats.ttest_ind(\n",
    "    data.loc[data['Group'] == 'A', 'Score'],\n",
    "    data.loc[data['Group'] == 'B', 'Score'],\n",
    "    equal_var=True)\n",
    "print(\"Independent t-test:\", ind_ttest)"
   ]
  },
  {
   "cell_type": "markdown",
   "metadata": {},
   "source": [
    "Paired t-test"
   ]
  },
  {
   "cell_type": "code",
   "execution_count": null,
   "metadata": {},
   "outputs": [],
   "source": [
    "paired_ttest = stats.ttest_rel(data['Time1'], data['Time2'])\n",
    "print(\"Paired t-test:\", paired_ttest)"
   ]
  },
  {
   "cell_type": "markdown",
   "metadata": {},
   "source": [
    "One-way ANOVA"
   ]
  },
  {
   "cell_type": "code",
   "execution_count": null,
   "metadata": {},
   "outputs": [],
   "source": [
    "# statsmodels\n",
    "anova = smf.ols('Score ~ Group', data=data).fit()\n",
    "anova_result = sm.stats.anova_lm(anova, typ=2)\n",
    "\n",
    "# pingouin\n",
    "anova_result = pg.anova(data=data, dv='Score', between='Group').round(3)\n",
    "\n",
    "print(\"One-way ANOVA:\", anova_result)"
   ]
  },
  {
   "cell_type": "markdown",
   "metadata": {},
   "source": [
    "Repeated Measures ANOVA"
   ]
  },
  {
   "cell_type": "code",
   "execution_count": null,
   "metadata": {},
   "outputs": [],
   "source": [
    "rm_anova = pg.rm_anova(data=data_long, dv='Time_Score', within='Time', subject='Subject', detailed=True)\n",
    "print(\"Repeated Measures ANOVA:\", rm_anova)"
   ]
  },
  {
   "cell_type": "markdown",
   "metadata": {},
   "source": [
    "Mixed ANOVA"
   ]
  },
  {
   "cell_type": "code",
   "execution_count": null,
   "metadata": {},
   "outputs": [],
   "source": [
    "mixed_anova = pg.mixed_anova(data=data_long, dv='Time_Score', within='Time', between='Group', subject='Subject')\n",
    "print(\"Mixed ANOVA:\", mixed_anova)"
   ]
  },
  {
   "cell_type": "markdown",
   "metadata": {},
   "source": [
    "ANCOVA"
   ]
  },
  {
   "cell_type": "code",
   "execution_count": null,
   "metadata": {},
   "outputs": [],
   "source": [
    "# statsmodels\n",
    "ancova = smf.ols('Score ~ Group + Covariate1 + Covariate2', data=data).fit()\n",
    "ancova_result = sm.stats.anova_lm(ancova, typ=2)\n",
    "\n",
    "# pingouin\n",
    "ancova_result = pg.ancova(data=data, dv='Score', between='Group', covar=['Covariate1', 'Covariate2']).round(3) \n",
    "\n",
    "print(\"ANCOVA:\", ancova_result)"
   ]
  },
  {
   "cell_type": "markdown",
   "metadata": {},
   "source": [
    "Linear Mixed Model (LMM)"
   ]
  },
  {
   "cell_type": "code",
   "execution_count": null,
   "metadata": {},
   "outputs": [],
   "source": [
    "lmm = smf.mixedlm('Score ~ Group + Covariate1 + Covariate2', data, groups=data['Subject']).fit()\n",
    "print(\"Linear Mixed Model:\", lmm.summary())\n",
    "\n",
    "# longitudinal data:\n",
    "lmm_long = smf.mixedlm('Time_Score ~ Time * Group + Covariate1 + Covariate2', data_long, groups=data_long['Subject']).fit()\n",
    "print(\"Linear Mixed Model:\", lmm_long.summary())"
   ]
  },
  {
   "cell_type": "markdown",
   "metadata": {},
   "source": [
    "Generalized Linear Mixed Model (GLMM)"
   ]
  },
  {
   "cell_type": "code",
   "execution_count": null,
   "metadata": {},
   "outputs": [],
   "source": [
    "glmm = smf.glm('Score ~ Group + Covariate1 + Covariate2', data, groups=data['Subject'], family=sm.families.Binomial()).fit()\n",
    "print(\"Generalized Linear Mixed Model:\", glmm.summary())\n",
    "\n",
    "# longitudinal data:\n",
    "glmm_long = smf.glm('Time_Score ~ Time * Group + Covariate1 + Covariate2', data_long, groups=data_long['Subject'], family=sm.families.Binomial()).fit()\n",
    "print(\"Generalized Linear Mixed Model:\", glmm_long.summary())"
   ]
  }
 ],
 "metadata": {
  "kernelspec": {
   "display_name": "base",
   "language": "python",
   "name": "python3"
  },
  "language_info": {
   "codemirror_mode": {
    "name": "ipython",
    "version": 3
   },
   "file_extension": ".py",
   "mimetype": "text/x-python",
   "name": "python",
   "nbconvert_exporter": "python",
   "pygments_lexer": "ipython3",
   "version": "3.11.5"
  }
 },
 "nbformat": 4,
 "nbformat_minor": 2
}
