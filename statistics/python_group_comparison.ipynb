{
 "cells": [
  {
   "cell_type": "markdown",
   "metadata": {},
   "source": [
    "## Group comparison in python "
   ]
  },
  {
   "cell_type": "markdown",
   "metadata": {},
   "source": [
    "Import libaries"
   ]
  },
  {
   "cell_type": "code",
   "execution_count": null,
   "metadata": {},
   "outputs": [],
   "source": [
    "import numpy as np\n",
    "import pandas as pd\n",
    "import scipy.stats as stats\n",
    "import scikit_posthocs as sp\n",
    "import statsmodels.api as sm\n",
    "import statsmodels.formula.api as smf\n",
    "import pingouin as pg\n",
    "import matplotlib.pyplot as plt\n",
    "import seaborn as sns\n",
    "from statsmodels.stats.diagnostic import het_breuschpagan"
   ]
  },
  {
   "cell_type": "markdown",
   "metadata": {},
   "source": [
    "Generate Example Data"
   ]
  },
  {
   "cell_type": "code",
   "execution_count": null,
   "metadata": {},
   "outputs": [],
   "source": [
    "np.random.seed(42)\n",
    "data = pd.DataFrame({\n",
    "    'Group': np.random.choice(['A', 'B'], 100),\n",
    "    'Score': np.random.normal(50, 10, 100),\n",
    "    'Subject': np.arange(100),\n",
    "    'Time1': np.random.normal(50, 10, 100),\n",
    "    'Time2': np.random.normal(52, 10, 100),\n",
    "    'Covariate1': np.random.normal(100, 15, 100),\n",
    "    'Covariate2': np.random.normal(100, 15, 100),})\n",
    "\n",
    "# longitudinal dataframe\n",
    "data_long = data.melt(id_vars=['Group', 'Subject', 'Score', 'Covariate1', 'Covariate2'], value_vars=['Time1', 'Time2'], \n",
    "                      var_name='Time', value_name='Time_Score')"
   ]
  },
  {
   "cell_type": "markdown",
   "metadata": {},
   "source": [
    "### Assumption Testing"
   ]
  },
  {
   "cell_type": "markdown",
   "metadata": {},
   "source": [
    "Normality Tests"
   ]
  },
  {
   "cell_type": "code",
   "execution_count": null,
   "metadata": {},
   "outputs": [],
   "source": [
    "# Shapiro-Wilk test\n",
    "for group in data['Group'].unique():\n",
    "    group_data = data[data['Group'] == group]['Score']\n",
    "    stat, p = stats.shapiro(group_data)\n",
    "    print(f\"Shapiro-Wilk test for Group {group}: stat={stat:.4f}, p={p:.4f}\")"
   ]
  },
  {
   "cell_type": "code",
   "execution_count": null,
   "metadata": {},
   "outputs": [],
   "source": [
    "# Q-Q plots\n",
    "plt.figure(figsize=(15, 5))\n",
    "for i, group in enumerate(data['Group'].unique()):\n",
    "    plt.subplot(1, 3, i+1)\n",
    "    group_data = data[data['Group'] == group]['Score']\n",
    "    sm.qqplot(group_data, line='s', ax=plt.gca())\n",
    "    plt.title(f'Q-Q Plot for Group {group}')"
   ]
  },
  {
   "cell_type": "code",
   "execution_count": null,
   "metadata": {},
   "outputs": [],
   "source": [
    "# Histograms\n",
    "plt.figure(figsize=(15, 5))\n",
    "for i, group in enumerate(data['Group'].unique()):\n",
    "    plt.subplot(1, 3, i+1)\n",
    "    group_data = data[data['Group'] == group]['Score']\n",
    "    sns.histplot(group_data, kde=True, ax=plt.gca())\n",
    "    plt.title(f'Histogram for Group {group}')"
   ]
  },
  {
   "cell_type": "markdown",
   "metadata": {},
   "source": [
    "Homogeneity of Variance"
   ]
  },
  {
   "cell_type": "code",
   "execution_count": null,
   "metadata": {},
   "outputs": [],
   "source": [
    "# Levene's test\n",
    "levene_stat, levene_p = stats.levene(*[data[data['Group'] == group]['Score'] for group in data['Group'].unique()])\n",
    "print(f\"Levene's test: stat={levene_stat:.4f}, p={levene_p:.4f}\")\n",
    "\n",
    "# Bartlett's test\n",
    "bartlett_stat, bartlett_p = stats.bartlett(*[data[data['Group'] == group]['Score'] for group in data['Group'].unique()])\n",
    "print(f\"Bartlett's test: stat={bartlett_stat:.4f}, p={bartlett_p:.4f}\")"
   ]
  },
  {
   "cell_type": "markdown",
   "metadata": {},
   "source": [
    "Linearity (for ANCOVA and regression)"
   ]
  },
  {
   "cell_type": "code",
   "execution_count": null,
   "metadata": {},
   "outputs": [],
   "source": [
    "sns.pairplot(data, x_vars=[\"Covariate1\", \"Covariate2\"], y_vars=[\"Score\"], hue=\"Group\", height=5, aspect=.8, kind=\"reg\")"
   ]
  },
  {
   "cell_type": "markdown",
   "metadata": {},
   "source": [
    "Homogeneity of Regression Slopes (for ANCOVA)"
   ]
  },
  {
   "cell_type": "code",
   "execution_count": null,
   "metadata": {},
   "outputs": [],
   "source": [
    "ancova_interaction = smf.ols('Score ~ Group * Covariate1 + Group * Covariate2', data=data).fit()\n",
    "print(ancova_interaction.summary())"
   ]
  },
  {
   "cell_type": "markdown",
   "metadata": {},
   "source": [
    "Independence of Covariates and Groups (for ANCOVA)"
   ]
  },
  {
   "cell_type": "code",
   "execution_count": null,
   "metadata": {},
   "outputs": [],
   "source": [
    "for covar in ['Covariate1', 'Covariate2']:\n",
    "    anova_result = pg.anova(data=data, dv=covar, between='Group')\n",
    "    print(f\"ANOVA testing if {covar} differs by Group:\")\n",
    "    print(anova_result)"
   ]
  },
  {
   "cell_type": "markdown",
   "metadata": {},
   "source": [
    "Sphericity (for repeated measures ANOVA)"
   ]
  },
  {
   "cell_type": "code",
   "execution_count": null,
   "metadata": {},
   "outputs": [],
   "source": [
    "print(\"With only time points, sphericity is automatically met.\")\n",
    "sphericity_test = pg.sphericity(data_long, dv='Time_Score', within='Time', subject='Subject')\n",
    "print(sphericity_test)"
   ]
  },
  {
   "cell_type": "markdown",
   "metadata": {},
   "source": [
    " Normality of Residuals"
   ]
  },
  {
   "cell_type": "code",
   "execution_count": null,
   "metadata": {},
   "outputs": [],
   "source": [
    "# Fit a model\n",
    "model = smf.ols('Score ~ Group + Covariate1 + Covariate2', data=data).fit()\n",
    "residuals = model.resid\n",
    "\n",
    "# Shapiro-Wilk test on residuals\n",
    "shapiro_stat, shapiro_p = stats.shapiro(residuals)\n",
    "print(f\"Shapiro-Wilk test on residuals: stat={shapiro_stat:.4f}, p={shapiro_p:.4f}\")\n",
    "\n",
    "# Q-Q plot of residuals\n",
    "plt.figure(figsize=(5, 3))\n",
    "sm.qqplot(residuals, line='s', ax=plt.gca())\n",
    "plt.title('Q-Q Plot of Residuals')\n",
    "\n",
    "# Histogram of residuals\n",
    "plt.figure(figsize=(5, 3))\n",
    "sns.histplot(residuals, kde=True)\n",
    "plt.title('Histogram of Residuals')\n",
    "\n",
    "# Homoscedasticity\n",
    "bp_test = het_breuschpagan(residuals, model.model.exog)\n",
    "print(f\"Breusch-Pagan test: LM stat={bp_test[0]:.4f}, p={bp_test[1]:.4f}\")"
   ]
  },
  {
   "cell_type": "markdown",
   "metadata": {},
   "source": [
    "### Group comparison tests"
   ]
  },
  {
   "cell_type": "markdown",
   "metadata": {},
   "source": [
    "Independent t-test"
   ]
  },
  {
   "cell_type": "code",
   "execution_count": null,
   "metadata": {},
   "outputs": [],
   "source": [
    "ind_ttest = stats.ttest_ind(\n",
    "    data.loc[data['Group'] == 'A', 'Score'],\n",
    "    data.loc[data['Group'] == 'B', 'Score'],\n",
    "    equal_var=True)\n",
    "print(\"Independent t-test:\", ind_ttest)"
   ]
  },
  {
   "cell_type": "markdown",
   "metadata": {},
   "source": [
    "Paired t-test"
   ]
  },
  {
   "cell_type": "code",
   "execution_count": null,
   "metadata": {},
   "outputs": [],
   "source": [
    "paired_ttest = stats.ttest_rel(data['Time1'], data['Time2'])\n",
    "print(\"Paired t-test:\", paired_ttest)"
   ]
  },
  {
   "cell_type": "markdown",
   "metadata": {},
   "source": [
    "One-way ANOVA"
   ]
  },
  {
   "cell_type": "code",
   "execution_count": null,
   "metadata": {},
   "outputs": [],
   "source": [
    "# statsmodels\n",
    "anova = smf.ols('Score ~ Group', data=data).fit()\n",
    "anova_result = sm.stats.anova_lm(anova, typ=2)\n",
    "\n",
    "# pingouin\n",
    "anova_result = pg.anova(data=data, dv='Score', between='Group').round(3)\n",
    "\n",
    "print(\"One-way ANOVA:\", anova_result)"
   ]
  },
  {
   "cell_type": "markdown",
   "metadata": {},
   "source": [
    "Repeated Measures ANOVA"
   ]
  },
  {
   "cell_type": "code",
   "execution_count": null,
   "metadata": {},
   "outputs": [],
   "source": [
    "rm_anova = pg.rm_anova(data=data_long, dv='Time_Score', within='Time', subject='Subject', detailed=True)\n",
    "print(\"Repeated Measures ANOVA:\", rm_anova)"
   ]
  },
  {
   "cell_type": "markdown",
   "metadata": {},
   "source": [
    "Mixed ANOVA"
   ]
  },
  {
   "cell_type": "code",
   "execution_count": null,
   "metadata": {},
   "outputs": [],
   "source": [
    "mixed_anova = pg.mixed_anova(data=data_long, dv='Time_Score', within='Time', between='Group', subject='Subject')\n",
    "print(\"Mixed ANOVA:\", mixed_anova)"
   ]
  },
  {
   "cell_type": "markdown",
   "metadata": {},
   "source": [
    "ANCOVA"
   ]
  },
  {
   "cell_type": "code",
   "execution_count": null,
   "metadata": {},
   "outputs": [],
   "source": [
    "# statsmodels\n",
    "ancova = smf.ols('Score ~ Group + Covariate1 + Covariate2', data=data).fit()\n",
    "ancova_result = sm.stats.anova_lm(ancova, typ=2)\n",
    "\n",
    "# pingouin\n",
    "ancova_result = pg.ancova(data=data, dv='Score', between='Group', covar=['Covariate1', 'Covariate2']).round(3) \n",
    "\n",
    "print(\"ANCOVA:\", ancova_result)"
   ]
  },
  {
   "cell_type": "markdown",
   "metadata": {},
   "source": [
    "Linear Mixed Model (LMM)"
   ]
  },
  {
   "cell_type": "code",
   "execution_count": null,
   "metadata": {},
   "outputs": [],
   "source": [
    "lmm = smf.mixedlm('Score ~ Group + Covariate1 + Covariate2', data, groups=data['Subject']).fit()\n",
    "print(\"Linear Mixed Model:\", lmm.summary())\n",
    "\n",
    "# longitudinal data:\n",
    "lmm_long = smf.mixedlm('Time_Score ~ Time * Group + Covariate1 + Covariate2', data_long, groups=data_long['Subject']).fit()\n",
    "print(\"Linear Mixed Model:\", lmm_long.summary())"
   ]
  },
  {
   "cell_type": "markdown",
   "metadata": {},
   "source": [
    "Generalized Linear Mixed Model (GLMM)"
   ]
  },
  {
   "cell_type": "code",
   "execution_count": null,
   "metadata": {},
   "outputs": [],
   "source": [
    "glmm = smf.glm('Score ~ Group + Covariate1 + Covariate2', data, groups=data['Subject'], family=sm.families.Binomial()).fit()\n",
    "print(\"Generalized Linear Mixed Model:\", glmm.summary())\n",
    "\n",
    "# longitudinal data:\n",
    "glmm_long = smf.glm('Time_Score ~ Time * Group + Covariate1 + Covariate2', data_long, groups=data_long['Subject'], family=sm.families.Binomial()).fit()\n",
    "print(\"Generalized Linear Mixed Model:\", glmm_long.summary())"
   ]
  },
  {
   "cell_type": "markdown",
   "metadata": {},
   "source": [
    "### Post-hoc tests"
   ]
  },
  {
   "cell_type": "markdown",
   "metadata": {},
   "source": [
    "Post-hoc for ANOVA"
   ]
  },
  {
   "cell_type": "code",
   "execution_count": null,
   "metadata": {},
   "outputs": [],
   "source": [
    "# Fisher's LSD\n",
    "lsd = pg.pairwise_tests(data=data, dv='Score', between='Group', parametric=True)\n",
    "print(\"Fisher's LSD:\", lsd)\n",
    "\n",
    "# Turkey\n",
    "tukey = sp.posthoc_tukey_hsd(data, val_col='Score', group_col='Group')\n",
    "print(\"Turkey HSD:\", tukey)\n",
    "\n",
    "tukey = pg.pairwise_tukey(data, dv='Score', between='Group')\n",
    "print(\"Turkey HSD:\", tukey)\n",
    "\n",
    "# Holm correction\n",
    "holm = sp.posthoc_ttest(data, val_col='Score', group_col='Group', p_adjust='holm')\n",
    "print(\"Holm correction:\", holm)\n",
    "\n",
    "holm = pg.pairwise_ttests(data=data, dv='Score', between='Group', padjust='holm')\n",
    "print(\"Holm correction:\",holm)\n",
    "\n",
    "# Dunnett correction\n",
    "dunnet = stats.dunnett(data.loc[data['Group'] == 'A', 'Score'], control=data.loc[data['Group'] == 'B', 'Score'])\n",
    "print(\"Dunnet correction:\", dunnet)\n",
    "\n",
    "# Bonferonni correction\n",
    "bonf = pg.pairwise_ttests(data=data, dv='Score', between='Group', padjust='bonf')\n",
    "print(\"Bonferroni correction:\", bonf)"
   ]
  },
  {
   "cell_type": "markdown",
   "metadata": {},
   "source": [
    "non- parametric tests"
   ]
  },
  {
   "cell_type": "code",
   "execution_count": null,
   "metadata": {},
   "outputs": [],
   "source": [
    "# Kruskal-Wallis\n",
    "kruskal = pg.kruskal(data=data, dv='Score', between='Group')\n",
    "print(\"Kruskal-Wallis:\", kruskal)\n",
    "\n",
    "# Mann-Whitney U test\n",
    "mwu = pg.mwu(data.loc[data['Group'] == 'A', 'Score'], data.loc[data['Group'] == 'B', 'Score'])\n",
    "print(\"Mann-Whitney U test:\", mwu)"
   ]
  },
  {
   "cell_type": "markdown",
   "metadata": {},
   "source": [
    "Post-hoc for repeated measure ANOVA"
   ]
  },
  {
   "cell_type": "code",
   "execution_count": null,
   "metadata": {},
   "outputs": [],
   "source": [
    "posthoc_rm = pg.pairwise_ttests(data=data_long, dv='Time_Score', within='Time', subject='Subject', padjust='bonf')\n",
    "print(posthoc_rm)"
   ]
  },
  {
   "cell_type": "markdown",
   "metadata": {},
   "source": [
    "Post-hoc for mixed ANOVA"
   ]
  },
  {
   "cell_type": "code",
   "execution_count": null,
   "metadata": {},
   "outputs": [],
   "source": [
    "posthoc_mixed = pg.pairwise_ttests(data=data_long, dv='Time_Score', between='Group', within='Time', subject='Subject', padjust='bonf')\n",
    "print(posthoc_mixed)"
   ]
  },
  {
   "cell_type": "markdown",
   "metadata": {},
   "source": [
    "Post-hoc with covariates: no easy solution in python"
   ]
  },
  {
   "cell_type": "markdown",
   "metadata": {},
   "source": [
    "maybe check: https://eshinjolly.com/pymer4/index.html "
   ]
  }
 ],
 "metadata": {
  "kernelspec": {
   "display_name": "base",
   "language": "python",
   "name": "python3"
  },
  "language_info": {
   "codemirror_mode": {
    "name": "ipython",
    "version": 3
   },
   "file_extension": ".py",
   "mimetype": "text/x-python",
   "name": "python",
   "nbconvert_exporter": "python",
   "pygments_lexer": "ipython3",
   "version": "3.11.5"
  }
 },
 "nbformat": 4,
 "nbformat_minor": 2
}
